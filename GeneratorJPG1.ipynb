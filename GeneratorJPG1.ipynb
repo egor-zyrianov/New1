{
 "cells": [
  {
   "cell_type": "code",
   "execution_count": 1,
   "metadata": {},
   "outputs": [],
   "source": [
    "from PIL import Image, ImageDraw\n",
    "#import numpy as np\n",
    "import math\n",
    "import os\n",
    "from datetime import datetime\n",
    "from numpy.random import random\n",
    "\n",
    "%load_ext memory_profiler"
   ]
  },
  {
   "cell_type": "code",
   "execution_count": 2,
   "metadata": {},
   "outputs": [],
   "source": [
    "# Поиск ближашей точки\n",
    "# по развертывающимуся квадрату (в пределах 30) и возвращение дистанции\n",
    "def box(ox, oy, image):\n",
    "    pix = image.load() \n",
    "    distance = 0\n",
    "    try:\n",
    "        for limit in range(1, 31):\n",
    "            x = ox + limit\n",
    "            y = oy + limit\n",
    "            for ix in range(limit*2+1):\n",
    "                x = x - 1\n",
    "                if pix[x,y] == (0,0,0):\n",
    "                    dnew = (x-ox)**2 + (y-oy)**2\n",
    "                    if dnew < distance or distance == 0:\n",
    "                        distance = dnew\n",
    "            for iy in range(limit*2+1):\n",
    "                y = y - 1\n",
    "                if pix[x,y] == (0,0,0):\n",
    "                    dnew = (x-ox)**2 + (y-oy)**2\n",
    "                    if dnew < distance or distance == 0:\n",
    "                        distance = dnew\n",
    "            for jx in range(limit*2+1):\n",
    "                x = x + 1\n",
    "                if pix[x,y] == (0,0,0):\n",
    "                    dnew = (x-ox)**2 + (y-oy)**2\n",
    "                    if dnew < distance or distance == 0:\n",
    "                        distance = dnew\n",
    "            for jy in range(limit*2+1):\n",
    "                y = y + 1\n",
    "                if pix[x,y] == (0,0,0):\n",
    "                    dnew = (x-ox)**2 + (y-oy)**2\n",
    "                    if dnew < distance or distance == 0:\n",
    "                        distance = dnew\n",
    "            if distance > 0:\n",
    "                return(distance)\n",
    "    except IndexError:\n",
    "        pass\n",
    "    return(distance)"
   ]
  },
  {
   "cell_type": "code",
   "execution_count": 3,
   "metadata": {},
   "outputs": [],
   "source": [
    "# Генератор точек с вероятностью 0.002 с параметрос n\n",
    "def generatorJPG(image, n = 1, area = 4):\n",
    "    if area > 10 or area < 1:\n",
    "        return('Error area in range 1 to 10')\n",
    "    imagetemp = image\n",
    "    width  = area * image.size[0] // 10\n",
    "    height = area * image.size[1] // 10\n",
    "    draw = ImageDraw.Draw(imagetemp)\n",
    "    for x in range(width):\n",
    "        for y in range(height):\n",
    "                if x**2+y**2 < width**2 and random() < n*0.002:\n",
    "                    draw.point((x,y), (0,0,0))            \n",
    "    return(imagetemp)"
   ]
  },
  {
   "cell_type": "code",
   "execution_count": 4,
   "metadata": {},
   "outputs": [],
   "source": [
    "#  Разбиение плоскости на n=1 область лучами\n",
    "#  Сбор данных с областей: \n",
    "# количество точек, минмальная\\максимальная\\средняя дистанции\n",
    "def sun(image, n = 2, area = 4):\n",
    "    imagetemp = image\n",
    "    \n",
    "    if area<1 or area >10:\n",
    "        return('Error area in range from 1 to 10')\n",
    "    width  = area*image.size[0]//10\n",
    "    height = area*image.size[1]//10\n",
    "    \n",
    "    partition = [0]*(4*(n+1)) # хранилище статистики\n",
    "    \n",
    "    draw = ImageDraw.Draw(imagetemp)\n",
    "    \n",
    "    # сканирование начальной области\n",
    "    for x in range(width//2):\n",
    "        for y in range(height//2):\n",
    "            if pix[x,y] == (0,0,0): #проверка точки\n",
    "                # сбор данных\n",
    "                distance = box(x,y,image)#дистанция\n",
    "                # классификация на области\n",
    "                for c in range(n+1):\n",
    "                    if (y+1)/(x+1) > math.tan((c*math.pi)/(2*(n+1))):\n",
    "                        partition[4*c] = partition[4*c] + 1\n",
    "                        # минимум\n",
    "                        if partition[4*c+1] > distance or partition[4*c+1] == 0:\n",
    "                            partition[4*c+1] = distance\n",
    "                        # максимум\n",
    "                        if partition[4*c+2] < distance:\n",
    "                            partition[4*c+2] = distance\n",
    "                        partition[4*c+3] = partition[4*c+3] + distance # сложение дистанций\n",
    "                        \n",
    "                        \n",
    "    # приведение данных для n+1 области\n",
    "    for c in range(n):\n",
    "        partition[4*c] = partition[4*c] - partition[4*(c+1)] # приведение к несовместности множеств точек\n",
    "        try:\n",
    "            partition[4*c+3] = partition[4*c+3] // partition[4*c] # усреднение квадратов дистанций\n",
    "        except ZeroDivisionError:\n",
    "            pass\n",
    "    print(partition)\n",
    "            \n",
    "    for x in range(width+1):\n",
    "        for y in range(height+1):\n",
    "            if x**2+y**2 in range(height**2-height,height**2+height):\n",
    "                draw.point((x,y), (255,0,0))\n",
    "        \n",
    "    # продление статистической модели на расширение каждой области\n",
    "    for c in range(n+1):\n",
    "        dis = math.sqrt(partition[4*c+2]) # чистый максимум\n",
    "        director = math.tan(((c+0.5)*math.pi)/(2*(n+1))) # коррекция вдоль луча разбиения\n",
    "        \n",
    "        # метка на конце начальной области\n",
    "        x = height * math.cos((c+0.5)*math.pi/(2*(n+1)))\n",
    "        y = width  * math.sin((c+0.5)*math.pi/(2*(n+1)))\n",
    "        # заполнение точками\n",
    "        for count in range( int(partition[4*c]*(10*10/(area*area))) ):\n",
    "            # функция рекурсивного подбора\n",
    "            def random_shift(x,y,  c , n , partition , dis = 0):\n",
    "                # итерация новой точки\n",
    "                xy = [0 , 2*(0.5-random())*dis]\n",
    "                xy = [x + 2*(0.5-random()) * math.sqrt(partition[4*c+2]-(xy[1]**2)), y + xy[1]*director]\n",
    "                # условия принадлежности новой точки области\n",
    "                if not (xy[0]**2 + xy[1]**2 > height**2 \n",
    "                          and xy[1]/xy[0] > math.tan((  c  *math.pi)/(2*(n+1)))\n",
    "                          and xy[1]/xy[0] < math.tan(((c+1)*math.pi)/(2*(n+1)))\n",
    "                          and xy[0]**2 + xy[1]**2 > partition[4*c+1]):\n",
    "                    xy = random_shift(x,y, c , n , partition , dis)\n",
    "                # новая точка и коррекция следующей\n",
    "                dis = dis * (2*math.sqrt(partition[4*c+3]) - math.sqrt(xy[0]**2+xy[1]**2)) / math.sqrt(xy[0]**2+xy[1]**2) # коррекция к среднему\n",
    "                return(xy)\n",
    "            xy = random_shift(x,y, c , n , partition , dis)\n",
    "            x = xy[0] \n",
    "            y = xy[1]\n",
    "            draw.point((xy[0],xy[1]), (0,0,0))             \n",
    "    del draw            \n",
    "    return(imagetemp)"
   ]
  },
  {
   "cell_type": "code",
   "execution_count": 5,
   "metadata": {
    "scrolled": false
   },
   "outputs": [
    {
     "name": "stdout",
     "output_type": "stream",
     "text": [
      "[8, 13, 392, 400, 16, 18, 392, 154, 7, 45, 260, 750]\n",
      "C:\\Users\\B150M-C\\JupyterProject\\Machine learning\\images\\D03022021 18 04.jpg\n",
      "peak memory: 63.09 MiB, increment: 0.21 MiB\n"
     ]
    },
    {
     "data": {
      "image/png": "[encoded data removed]",
      "text/plain": [
       "<PIL.Image.Image image mode=RGB size=400x400 at 0x67276D0>"
      ]
     },
     "execution_count": 5,
     "metadata": {},
     "output_type": "execute_result"
    }
   ],
   "source": [
    "image = Image.new(mode='RGB', size=(400,400),color=(255,255,255))\n",
    "\n",
    "draw = ImageDraw.Draw(image)\n",
    "pix = image.load()\n",
    "\n",
    "image = generatorJPG(image, 2, 5)\n",
    "image = sun(image, 2, 5)\n",
    "time = datetime.now().strftime(\"%d%m%Y %H %M\") + '.jpg'\n",
    "directory = os.getcwd() + '\\\\images\\\\D' + time\n",
    "\n",
    "print(directory)\n",
    "del draw\n",
    "image.save(directory)\n",
    "\n",
    "%memit\n",
    "image"
   ]
  },
  {
   "cell_type": "code",
   "execution_count": null,
   "metadata": {},
   "outputs": [],
   "source": []
  }
 ],
 "metadata": {
  "kernelspec": {
   "display_name": "Python 3",
   "language": "python",
   "name": "python3"
  },
  "language_info": {
   "codemirror_mode": {
    "name": "ipython",
    "version": 3
   },
   "file_extension": ".py",
   "mimetype": "text/x-python",
   "name": "python",
   "nbconvert_exporter": "python",
   "pygments_lexer": "ipython3",
   "version": "3.8.5"
  }
 },
 "nbformat": 4,
 "nbformat_minor": 4
}
