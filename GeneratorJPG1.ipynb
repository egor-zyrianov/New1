{
 "cells": [
  {
   "cell_type": "code",
   "execution_count": 1,
   "metadata": {},
   "outputs": [],
   "source": [
    "from PIL import Image, ImageDraw\n",
    "import numpy as np\n",
    "import math\n",
    "from datetime import datetime\n",
    "from numpy.random import random"
   ]
  },
  {
   "cell_type": "code",
   "execution_count": 2,
   "metadata": {},
   "outputs": [],
   "source": [
    "# Поиск ближашей точки\n",
    "# по развертывающимуся квадрату (в пределах 30) и возвращение дистанции\n",
    "def box(ox, oy, image):\n",
    "    pix = image.load() \n",
    "    distance = 0\n",
    "    try:\n",
    "        for limit in range(1, 31):\n",
    "            x = ox + limit\n",
    "            y = oy + limit\n",
    "            for ix in range(limit*2+1):\n",
    "                x = x - 1\n",
    "                if pix[x,y] == (0,0,0):\n",
    "                    dnew = (x-ox)**2 + (y-oy)**2\n",
    "                    if dnew < distance or distance == 0:\n",
    "                        distance = dnew\n",
    "            for iy in range(limit*2+1):\n",
    "                y = y - 1\n",
    "                if pix[x,y] == (0,0,0):\n",
    "                    dnew = (x-ox)**2 + (y-oy)**2\n",
    "                    if dnew < distance or distance == 0:\n",
    "                        distance = dnew\n",
    "            for jx in range(limit*2+1):\n",
    "                x = x + 1\n",
    "                if pix[x,y] == (0,0,0):\n",
    "                    dnew = (x-ox)**2 + (y-oy)**2\n",
    "                    if dnew < distance or distance == 0:\n",
    "                        distance = dnew\n",
    "            for jy in range(limit*2+1):\n",
    "                y = y + 1\n",
    "                if pix[x,y] == (0,0,0):\n",
    "                    dnew = (x-ox)**2 + (y-oy)**2\n",
    "                    if dnew < distance or distance == 0:\n",
    "                        distance = dnew\n",
    "            if distance > 0:\n",
    "                return(distance)\n",
    "    except IndexError:\n",
    "        pass\n",
    "    return(distance)"
   ]
  },
  {
   "cell_type": "code",
   "execution_count": 3,
   "metadata": {},
   "outputs": [],
   "source": [
    "# Генератор точек с вероятностью 0.002 с параметрос n\n",
    "def generatorJPG(image, n):\n",
    "    for x in range(width//2):\n",
    "        for y in range(height//2):\n",
    "                if random() < n*0.002:\n",
    "                    draw.point((x,y), 0)            \n",
    "    return(image)"
   ]
  },
  {
   "cell_type": "code",
   "execution_count": 4,
   "metadata": {},
   "outputs": [],
   "source": [
    "def generatorExtend(image, partition, n):\n",
    "    return"
   ]
  },
  {
   "cell_type": "code",
   "execution_count": 5,
   "metadata": {},
   "outputs": [],
   "source": [
    "#  Разбиение плоскости на n=1 область лучами\n",
    "#  Сбор данных с областей: \n",
    "# количество точек, минмальная\\максимальная\\средняя дистанции\n",
    "def sun(n):\n",
    "    partition = [0]*(4*(n+1))\n",
    "    for x in range(width//2):\n",
    "        for y in range(height//2):\n",
    "            if pix[x,y] == (0,0,0): #проверка точки\n",
    "                # сбор данных\n",
    "                distance = box(x,y,image)#дистанция\n",
    "                # классификация на области\n",
    "                for c in range(n+1):\n",
    "                    if (y+1)/(x+1) > math.tan((c*math.pi)/(2*(n+1))):\n",
    "                        partition[4*c] = partition[4*c] + 1\n",
    "                        # минимум\n",
    "                        if partition[4*c+1] > distance or partition[4*c+1] == 0:\n",
    "                            partition[4*c+1] = distance\n",
    "                        # максимум\n",
    "                        if partition[4*c+2] < distance:\n",
    "                            partition[4*c+2] = distance\n",
    "                        partition[4*c+3] = partition[4*c+3] + distance # сложение дистанций\n",
    "    for c in range(n):\n",
    "        partition[4*c] = partition[4*c] - partition[4*(c+1)]\n",
    "    return(partition)"
   ]
  },
  {
   "cell_type": "code",
   "execution_count": 6,
   "metadata": {},
   "outputs": [
    {
     "name": "stdout",
     "output_type": "stream",
     "text": [
      "\n",
      " [21, 2, 712, 12498, 40, 2, 712, 10410, 28, 4, 425, 4263]\n",
      "C:\\Users\\B150M-C\\JupyterProject\\Machine learning\\images\\D31012021 02 05.jpg\n"
     ]
    },
    {
     "data": {
      "image/png": "[encoded data removed]",
      "text/plain": [
       "<PIL.Image.Image image mode=RGB size=400x400 at 0x5005A60>"
      ]
     },
     "execution_count": 6,
     "metadata": {},
     "output_type": "execute_result"
    }
   ],
   "source": [
    "image = Image.new(mode='RGB', size=(400,400),color=(255,255,255))\n",
    "draw = ImageDraw.Draw(image)\n",
    "width = image.size[0]\n",
    "height = image.size[1]\n",
    "pix = image.load()\n",
    "\n",
    "image = generatorJPG(image, 1)\n",
    "print('\\n', sun(2))\n",
    "time = datetime.now().strftime(\"%d%m%Y %H %M\") + '.jpg'\n",
    "directory = r'C:\\Users\\B150M-C\\JupyterProject\\Machine learning\\images\\D' + time \n",
    "print(directory)\n",
    "image.save(directory)\n",
    "\n",
    "del draw\n",
    "\n",
    "image"
   ]
  },
  {
   "cell_type": "code",
   "execution_count": null,
   "metadata": {},
   "outputs": [],
   "source": []
  },
  {
   "cell_type": "code",
   "execution_count": null,
   "metadata": {},
   "outputs": [],
   "source": []
  }
 ],
 "metadata": {
  "kernelspec": {
   "display_name": "Python 3",
   "language": "python",
   "name": "python3"
  },
  "language_info": {
   "codemirror_mode": {
    "name": "ipython",
    "version": 3
   },
   "file_extension": ".py",
   "mimetype": "text/x-python",
   "name": "python",
   "nbconvert_exporter": "python",
   "pygments_lexer": "ipython3",
   "version": "3.8.3"
  }
 },
 "nbformat": 4,
 "nbformat_minor": 4
}
